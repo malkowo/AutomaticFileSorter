{
 "cells": [
  {
   "cell_type": "markdown",
   "id": "42aaef13",
   "metadata": {},
   "source": [
    "# Automatic File Sorter"
   ]
  },
  {
   "cell_type": "code",
   "execution_count": 1,
   "id": "09b6b354",
   "metadata": {},
   "outputs": [],
   "source": [
    "import os\n",
    "import shutil\n",
    "import schedule"
   ]
  },
  {
   "cell_type": "code",
   "execution_count": 2,
   "id": "24f08dbe",
   "metadata": {},
   "outputs": [],
   "source": [
    "def sorting_files():\n",
    "    \n",
    "    path = r\"/Users/tomaszbicki/Desktop/Python Automated Files Sorter/\"\n",
    "\n",
    "    # We are getting a list with the names of all files in the folder\n",
    "    file_name = os.listdir(path)\n",
    "\n",
    "    folder_names = [\"csv files\", \"xlsx files\", \"pdf files\"] \n",
    "\n",
    "    # We are checking if there is already a folder with a specified data type, and if not we are adding that folder\n",
    "    for x in range(0, 3): \n",
    "        if not os.path.exists(path + folder_names[x]):\n",
    "            os.makedirs(path + folder_names[x])\n",
    "        \n",
    "    # We are taking every file and adding to folder with one type of data, but only if it is not already in that place        \n",
    "    for file in file_name:\n",
    "        if \".csv\" in file and not os.path.exists(path + \"csv files/\" + file):\n",
    "            shutil.move(path + file, path + \"csv files/\" + file)\n",
    "        elif \".xlsx\" in file and not os.path.exists(path + \"xlsx files/\" + file):\n",
    "            shutil.move(path + file, path + \"xlsx files/\" + file)\n",
    "        elif \".pdf\" in file and not os.path.exists(path + \"pdf files/\" + file):\n",
    "            shutil.move(path + file, path + \"pdf files/\" + file)\n",
    "        \n",
    "    # We are checking if there are unadded items in the folder, \n",
    "    # but we are excluding from our results MacOS hidden file and folders with our stored files        \n",
    "    remaining_files = [f for f in os.listdir(path) if f not in folder_names and f != \".DS_Store\"]\n",
    "\n",
    "    # We are returning information if there are any files remaining in the folder\n",
    "    if remaining_files:\n",
    "        print(\"There are unadded files to the folders!\")\n",
    "    else:\n",
    "        print(\"No more files to add!\")"
   ]
  },
  {
   "cell_type": "code",
   "execution_count": null,
   "id": "7f7bee69",
   "metadata": {},
   "outputs": [],
   "source": [
    "# We are scheduling to run script every hour\n",
    "schedule.every().hour.do(sorting_files)\n",
    "\n",
    "while True:\n",
    "    schedule.run_pending()"
   ]
  }
 ],
 "metadata": {
  "kernelspec": {
   "display_name": "Python 3 (ipykernel)",
   "language": "python",
   "name": "python3"
  },
  "language_info": {
   "codemirror_mode": {
    "name": "ipython",
    "version": 3
   },
   "file_extension": ".py",
   "mimetype": "text/x-python",
   "name": "python",
   "nbconvert_exporter": "python",
   "pygments_lexer": "ipython3",
   "version": "3.10.9"
  }
 },
 "nbformat": 4,
 "nbformat_minor": 5
}
